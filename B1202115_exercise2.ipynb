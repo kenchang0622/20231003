{
  "nbformat": 4,
  "nbformat_minor": 0,
  "metadata": {
    "colab": {
      "provenance": []
    },
    "kernelspec": {
      "name": "python3",
      "display_name": "Python 3"
    },
    "language_info": {
      "name": "python"
    }
  },
  "cells": [
    {
      "cell_type": "code",
      "execution_count": null,
      "metadata": {
        "colab": {
          "base_uri": "https://localhost:8080/"
        },
        "id": "DsESmKX1crry",
        "outputId": "8a0bebf6-2e8f-40b3-ee29-2da7314805cd"
      },
      "outputs": [
        {
          "output_type": "stream",
          "name": "stdout",
          "text": [
            "['K', 'G', 'H', 'U']\n",
            "A\n"
          ]
        }
      ],
      "source": [
        "a='C,B,A'\n",
        "b=['F','G','H']\n",
        "c=a.split(',')\n",
        "d=c+b\n",
        "d[0]='K'\n",
        "e=d.pop(2)\n",
        "del d[1:3]\n",
        "d.append('U')\n",
        "print(d)\n",
        "print(e)"
      ]
    },
    {
      "cell_type": "code",
      "source": [],
      "metadata": {
        "id": "3Lagg2pQn0XN"
      },
      "execution_count": null,
      "outputs": []
    },
    {
      "cell_type": "code",
      "source": [
        "a=float(input('請輸入身高:'))\n",
        "b=float(input('請輸入體重:'))\n",
        "a/=100\n",
        "a**=2\n",
        "b/=a\n",
        "if b<18.5:\n",
        "  print('BMI:',b)\n",
        "  print('體位:過輕')\n",
        "elif 18.5<=b<24:\n",
        "  print('BMI:',b)\n",
        "  print('體位:適中')\n",
        "elif 24<=b<27:\n",
        "  print('BMI:',b)\n",
        "  print('體位:過重')\n",
        "else:\n",
        "  print('BMI:',b)\n",
        "  print('體位:肥胖')"
      ],
      "metadata": {
        "colab": {
          "base_uri": "https://localhost:8080/"
        },
        "id": "i7HdlRLal1f1",
        "outputId": "da3fa0b5-0283-4776-a7cf-3c672a8ab9bd"
      },
      "execution_count": null,
      "outputs": [
        {
          "output_type": "stream",
          "name": "stdout",
          "text": [
            "請輸入身高:170\n",
            "請輸入體重:70\n",
            "BMI: 24.221453287197235\n",
            "體位:過重\n"
          ]
        }
      ]
    }
  ]
}
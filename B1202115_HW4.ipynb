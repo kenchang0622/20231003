{
  "nbformat": 4,
  "nbformat_minor": 0,
  "metadata": {
    "colab": {
      "provenance": []
    },
    "kernelspec": {
      "name": "python3",
      "display_name": "Python 3"
    },
    "language_info": {
      "name": "python"
    }
  },
  "cells": [
    {
      "cell_type": "code",
      "execution_count": 12,
      "metadata": {
        "id": "lEy1rcORqNL9",
        "colab": {
          "base_uri": "https://localhost:8080/"
        },
        "outputId": "2521e3a5-0d63-469c-dd6e-172b7e9b3604"
      },
      "outputs": [
        {
          "output_type": "stream",
          "name": "stdout",
          "text": [
            "請輸入成績:50 60 70 80 90\n",
            "70.0\n"
          ]
        }
      ],
      "source": [
        "a=str(input('請輸入成績:'))\n",
        "a=a.split(' ')\n",
        "a=list(map(int,a))\n",
        "if a[0]>=a[1] and a[0]>=a[2] and a[0]>=a[3] and a[0]>=a[4]:\n",
        "  del a[0]\n",
        "elif a[1]>=a[0] and a[1]>=a[2] and a[1]>=a[3] and a[1]>=a[4]:\n",
        "  del a[1]\n",
        "elif a[2]>=a[0] and a[2]>=a[1] and a[2]>=a[3] and a[2]>=a[4]:\n",
        "  del a[2]\n",
        "elif a[3]>=a[0] and a[3]>=a[1] and a[3]>=a[2] and a[3]>=a[4]:\n",
        "  del a[3]\n",
        "else:\n",
        "  del a[4]\n",
        "if a[0]<=a[1] and a[0]<=a[2] and a[0]<=a[3]:\n",
        "  del a[0]\n",
        "elif a[1]<=a[0] and a[1]<=a[2] and a[0]<=a[3]:\n",
        "  del a[1]\n",
        "elif a[2]<=a[0] and a[2]<=a[1] and a[2]<=a[3]:\n",
        "  del a[2]\n",
        "else:\n",
        "  del a[3]\n",
        "b=(a[0]+a[1]+a[2])/3\n",
        "print(b)"
      ]
    },
    {
      "cell_type": "code",
      "source": [
        "a=int(input('請輸入數字:'))\n",
        "b=int(input('請輸入數字:'))\n",
        "c=input('請輸入運算符號:')\n",
        "if c==str('+'):\n",
        "  c= a+b\n",
        "elif c==str('-'):\n",
        "  c= a-b\n",
        "elif c==str('*'):\n",
        "  c= a*b\n",
        "elif c==str('/'):\n",
        "  c= a/b\n",
        "else:\n",
        "  print('Error')\n",
        "print(c)\n"
      ],
      "metadata": {
        "colab": {
          "base_uri": "https://localhost:8080/"
        },
        "id": "wpfkYbCrEUO4",
        "outputId": "543691a6-631d-49d7-8e27-7e5920728c7a"
      },
      "execution_count": 10,
      "outputs": [
        {
          "output_type": "stream",
          "name": "stdout",
          "text": [
            "請輸入數字:2\n",
            "請輸入數字:3\n",
            "請輸入運算符號:*\n",
            "6\n"
          ]
        }
      ]
    },
    {
      "cell_type": "code",
      "source": [
        "a=int(input('請輸入年分'))\n",
        "if a<=1582:\n",
        "  if a%4==0:\n",
        "    print('閏年')\n",
        "  else:\n",
        "    print('平年')\n",
        "else:\n",
        "  if a%4==0:\n",
        "    if a%100==0:\n",
        "      if a%400==0:\n",
        "        print('閏年')\n",
        "      else:\n",
        "        print('平年')\n",
        "    else:\n",
        "      print('閏年')\n",
        "  else:\n",
        "    print('平年')"
      ],
      "metadata": {
        "colab": {
          "base_uri": "https://localhost:8080/"
        },
        "id": "5BxKMPsyEXjF",
        "outputId": "c3936fc6-e329-482c-8591-987defadda98"
      },
      "execution_count": 17,
      "outputs": [
        {
          "output_type": "stream",
          "name": "stdout",
          "text": [
            "請輸入年分2012\n",
            "閏年\n"
          ]
        }
      ]
    }
  ]
}